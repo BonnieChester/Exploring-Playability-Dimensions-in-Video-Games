{
  "nbformat": 4,
  "nbformat_minor": 0,
  "metadata": {
    "colab": {
      "provenance": [],
      "machine_shape": "hm",
      "authorship_tag": "ABX9TyNDfmtT4nTqmb4jywmK5PVV",
      "include_colab_link": true
    },
    "kernelspec": {
      "name": "python3",
      "display_name": "Python 3"
    },
    "language_info": {
      "name": "python"
    }
  },
  "cells": [
    {
      "cell_type": "markdown",
      "metadata": {
        "id": "view-in-github",
        "colab_type": "text"
      },
      "source": [
        "<a href=\"https://colab.research.google.com/github/BonnieChester/GSM-KU-Workshop/blob/main/Similarity_for_WS_(six_facets).ipynb\" target=\"_parent\"><img src=\"https://colab.research.google.com/assets/colab-badge.svg\" alt=\"Open In Colab\"/></a>"
      ]
    },
    {
      "cell_type": "code",
      "execution_count": null,
      "metadata": {
        "colab": {
          "base_uri": "https://localhost:8080/"
        },
        "id": "OpO7CylxeJgf",
        "outputId": "5a891832-f227-4559-9476-4f34b2491f4c"
      },
      "outputs": [
        {
          "output_type": "stream",
          "name": "stdout",
          "text": [
            "Requirement already satisfied: transformers in /usr/local/lib/python3.10/dist-packages (4.35.2)\n",
            "Requirement already satisfied: filelock in /usr/local/lib/python3.10/dist-packages (from transformers) (3.13.1)\n",
            "Requirement already satisfied: huggingface-hub<1.0,>=0.16.4 in /usr/local/lib/python3.10/dist-packages (from transformers) (0.19.4)\n",
            "Requirement already satisfied: numpy>=1.17 in /usr/local/lib/python3.10/dist-packages (from transformers) (1.23.5)\n",
            "Requirement already satisfied: packaging>=20.0 in /usr/local/lib/python3.10/dist-packages (from transformers) (23.2)\n",
            "Requirement already satisfied: pyyaml>=5.1 in /usr/local/lib/python3.10/dist-packages (from transformers) (6.0.1)\n",
            "Requirement already satisfied: regex!=2019.12.17 in /usr/local/lib/python3.10/dist-packages (from transformers) (2023.6.3)\n",
            "Requirement already satisfied: requests in /usr/local/lib/python3.10/dist-packages (from transformers) (2.31.0)\n",
            "Requirement already satisfied: tokenizers<0.19,>=0.14 in /usr/local/lib/python3.10/dist-packages (from transformers) (0.15.0)\n",
            "Requirement already satisfied: safetensors>=0.3.1 in /usr/local/lib/python3.10/dist-packages (from transformers) (0.4.0)\n",
            "Requirement already satisfied: tqdm>=4.27 in /usr/local/lib/python3.10/dist-packages (from transformers) (4.66.1)\n",
            "Requirement already satisfied: fsspec>=2023.5.0 in /usr/local/lib/python3.10/dist-packages (from huggingface-hub<1.0,>=0.16.4->transformers) (2023.6.0)\n",
            "Requirement already satisfied: typing-extensions>=3.7.4.3 in /usr/local/lib/python3.10/dist-packages (from huggingface-hub<1.0,>=0.16.4->transformers) (4.5.0)\n",
            "Requirement already satisfied: charset-normalizer<4,>=2 in /usr/local/lib/python3.10/dist-packages (from requests->transformers) (3.3.2)\n",
            "Requirement already satisfied: idna<4,>=2.5 in /usr/local/lib/python3.10/dist-packages (from requests->transformers) (3.4)\n",
            "Requirement already satisfied: urllib3<3,>=1.21.1 in /usr/local/lib/python3.10/dist-packages (from requests->transformers) (2.0.7)\n",
            "Requirement already satisfied: certifi>=2017.4.17 in /usr/local/lib/python3.10/dist-packages (from requests->transformers) (2023.7.22)\n",
            "Requirement already satisfied: pandas in /usr/local/lib/python3.10/dist-packages (1.5.3)\n",
            "Requirement already satisfied: python-dateutil>=2.8.1 in /usr/local/lib/python3.10/dist-packages (from pandas) (2.8.2)\n",
            "Requirement already satisfied: pytz>=2020.1 in /usr/local/lib/python3.10/dist-packages (from pandas) (2023.3.post1)\n",
            "Requirement already satisfied: numpy>=1.21.0 in /usr/local/lib/python3.10/dist-packages (from pandas) (1.23.5)\n",
            "Requirement already satisfied: six>=1.5 in /usr/local/lib/python3.10/dist-packages (from python-dateutil>=2.8.1->pandas) (1.16.0)\n",
            "Requirement already satisfied: gdown in /usr/local/lib/python3.10/dist-packages (4.6.6)\n",
            "Requirement already satisfied: filelock in /usr/local/lib/python3.10/dist-packages (from gdown) (3.13.1)\n",
            "Requirement already satisfied: requests[socks] in /usr/local/lib/python3.10/dist-packages (from gdown) (2.31.0)\n",
            "Requirement already satisfied: six in /usr/local/lib/python3.10/dist-packages (from gdown) (1.16.0)\n",
            "Requirement already satisfied: tqdm in /usr/local/lib/python3.10/dist-packages (from gdown) (4.66.1)\n",
            "Requirement already satisfied: beautifulsoup4 in /usr/local/lib/python3.10/dist-packages (from gdown) (4.11.2)\n",
            "Requirement already satisfied: soupsieve>1.2 in /usr/local/lib/python3.10/dist-packages (from beautifulsoup4->gdown) (2.5)\n",
            "Requirement already satisfied: charset-normalizer<4,>=2 in /usr/local/lib/python3.10/dist-packages (from requests[socks]->gdown) (3.3.2)\n",
            "Requirement already satisfied: idna<4,>=2.5 in /usr/local/lib/python3.10/dist-packages (from requests[socks]->gdown) (3.4)\n",
            "Requirement already satisfied: urllib3<3,>=1.21.1 in /usr/local/lib/python3.10/dist-packages (from requests[socks]->gdown) (2.0.7)\n",
            "Requirement already satisfied: certifi>=2017.4.17 in /usr/local/lib/python3.10/dist-packages (from requests[socks]->gdown) (2023.7.22)\n",
            "Requirement already satisfied: PySocks!=1.5.7,>=1.5.6 in /usr/local/lib/python3.10/dist-packages (from requests[socks]->gdown) (1.7.1)\n"
          ]
        }
      ],
      "source": [
        "!pip install transformers\n",
        "!pip install pandas\n",
        "!pip install gdown"
      ]
    },
    {
      "cell_type": "code",
      "source": [
        "import os\n",
        "import pandas as pd\n",
        "from transformers import BertTokenizer, BertModel\n",
        "from sklearn.metrics.pairwise import cosine_similarity"
      ],
      "metadata": {
        "id": "XQbIapu8i3R3"
      },
      "execution_count": null,
      "outputs": []
    },
    {
      "cell_type": "code",
      "source": [
        "# Mount Google Drive\n",
        "from google.colab import drive\n",
        "drive.mount('/content/drive')"
      ],
      "metadata": {
        "colab": {
          "base_uri": "https://localhost:8080/"
        },
        "id": "2t91q5THi9xb",
        "outputId": "f5ea0cbb-e9fa-4df8-eb16-6503664e9edb"
      },
      "execution_count": null,
      "outputs": [
        {
          "output_type": "stream",
          "name": "stdout",
          "text": [
            "Mounted at /content/drive\n"
          ]
        }
      ]
    },
    {
      "cell_type": "code",
      "source": [
        "import nltk\n",
        "from nltk.corpus import stopwords\n",
        "# Define paths\n",
        "data_path = '/content/drive/MyDrive/Colab Notebooks/part4.csv'  # Update with your dataset path\n",
        "intrapersonal_text =  'This refers to the individual outlook, perceptions and feelings that the video game produces in each player when they play, and as such has a high subjective value. '\n",
        "artistic_text = 'This facet relates to the quality of the artistic and aesthetic rendering in the game elements visual graphics, sound effects, music and melodies, storyline and story telling and how these elements are executed in the video game. '\n",
        "interactive_text = 'This is associated with player interaction and video game user interface development, for example, interaction dialogue and game controls. This aspect of Playability is strongly connected to the Game Interface.'\n",
        "intrinsic_text = 'This is the Playability inherent in the nature of the video game itself and how it is presented to the player. It is closely related to Gameplay design and Game Mechanic. In this facet, for example, we can analyze the game’s rules, goals, objectives, rhythm and other mechanics. '\n",
        "interpersonal_text = 'This refers to the feelings and perceptions of users, and the group awareness that arise when a game is played in company, be it in a competitive, cooperative or collaborative way.'\n",
        "mechanical_text = 'This is related to the quality of the video game as a software system. It is associated with the Game Engine, with particular emphasis on, for example, the fluency of the film scenes, correct lighting, sound, music, animated graphics and characterization, as well as communication systems in a multiplayer video game.'\n",
        "output_path = '/content/drive/MyDrive/WS/similarity4.csv'  # Update with your output path\n",
        "\n",
        "\n",
        "# Load data with specified encoding\n",
        "data = pd.read_csv(data_path, usecols=['app_name', 'review_text'], header=0, encoding='latin1')\n",
        "\n",
        "# Rename columns\n",
        "data.columns = ['GameName', 'Text']\n",
        "\n",
        "# Load stopwords\n",
        "nltk.download('stopwords')\n",
        "nltk.download(\"wordnet\")\n",
        "nltk.download(\"punkt\")\n",
        "stop_words = set(stopwords.words('english'))"
      ],
      "metadata": {
        "colab": {
          "base_uri": "https://localhost:8080/"
        },
        "id": "ARiq_roTiyFv",
        "outputId": "0887b597-e9c9-478f-8dbd-b0b7e55f1911"
      },
      "execution_count": null,
      "outputs": [
        {
          "output_type": "stream",
          "name": "stderr",
          "text": [
            "[nltk_data] Downloading package stopwords to /root/nltk_data...\n",
            "[nltk_data]   Package stopwords is already up-to-date!\n",
            "[nltk_data] Downloading package wordnet to /root/nltk_data...\n",
            "[nltk_data]   Package wordnet is already up-to-date!\n",
            "[nltk_data] Downloading package punkt to /root/nltk_data...\n",
            "[nltk_data]   Package punkt is already up-to-date!\n"
          ]
        }
      ]
    },
    {
      "cell_type": "code",
      "source": [
        "def preprocess_text(text):\n",
        "    # Convert to lowercase\n",
        "    text = text.lower()\n",
        "    # Tokenize and remove stopwords\n",
        "    tokens = nltk.word_tokenize(text)\n",
        "    tokens = [word for word in tokens if word.isalpha() and word not in stop_words]\n",
        "    return ' '.join(tokens)"
      ],
      "metadata": {
        "id": "-_uqaI6Tlpxw"
      },
      "execution_count": null,
      "outputs": []
    },
    {
      "cell_type": "code",
      "source": [
        "# Tokenize and get embeddings using BERT\n",
        "tokenizer = BertTokenizer.from_pretrained('bert-base-uncased')\n",
        "model = BertModel.from_pretrained('bert-base-uncased')\n",
        "\n",
        "# Get embedding of the hardware text and software text\n",
        "def get_embeddings(text):\n",
        "    text = preprocess_text(text)\n",
        "    inputs = tokenizer(text, return_tensors=\"pt\", max_length=512, truncation=True)\n",
        "    outputs = model(**inputs)\n",
        "    return outputs['pooler_output'].detach().numpy()\n",
        "\n",
        "# Calculate cosine similarity\n",
        "def calculate_similarity(embeddings1, embeddings2):\n",
        "    sim_matrix = cosine_similarity(embeddings1, embeddings2)\n",
        "    return sim_matrix\n",
        "\n",
        "# Get embeddings\n",
        "intrapersonal_embeddings = get_embeddings(intrapersonal_text)\n",
        "artistic_embeddings = get_embeddings(artistic_text)\n",
        "interactive_embeddings = get_embeddings(interactive_text)\n",
        "intrinsic_embeddings = get_embeddings(intrinsic_text)\n",
        "interpersonal_embeddings = get_embeddings(interpersonal_text)\n",
        "mechanical_embeddings = get_embeddings(mechanical_text)"
      ],
      "metadata": {
        "id": "yLPgUnm-jyy4"
      },
      "execution_count": null,
      "outputs": []
    },
    {
      "cell_type": "code",
      "source": [
        "# Calculate similarity for each game\n",
        "results = []\n",
        "for index, row in data.iterrows():\n",
        "    game_name = row['GameName']\n",
        "    game_text = row['Text']\n",
        "    game_embeddings = get_embeddings(game_text)\n",
        "\n",
        "    intrapersonal_similarity = calculate_similarity(intrapersonal_embeddings, game_embeddings)[0][0]\n",
        "    artistic_similarity = calculate_similarity(artistic_embeddings, game_embeddings)[0][0]\n",
        "    interactive_similarity = calculate_similarity(interactive_embeddings, game_embeddings)[0][0]\n",
        "    intrinsic_similarity = calculate_similarity(intrinsic_embeddings, game_embeddings)[0][0]\n",
        "    interpersonal_similarity = calculate_similarity(interpersonal_embeddings, game_embeddings)[0][0]\n",
        "    mechanical_similarity = calculate_similarity(mechanical_embeddings, game_embeddings)[0][0]\n",
        "\n",
        "    results.append([game_name, intrapersonal_similarity, artistic_similarity, interactive_similarity, intrinsic_similarity, interpersonal_similarity, mechanical_similarity])"
      ],
      "metadata": {
        "id": "CybDWMEtkFM5"
      },
      "execution_count": null,
      "outputs": []
    },
    {
      "cell_type": "code",
      "source": [
        "# Create DataFrame and save results\n",
        "result_df = pd.DataFrame(results, columns=['GameName', 'IntrapersonalSimilarity', 'ArtisticSimilarity', 'InteractiveSimilarity', 'IntrinsicSimilarity', 'InterpersonalSimilarity', 'MechanicalSimilarity'])\n",
        "result_df.to_csv(output_path, index=False)\n",
        "\n",
        "print(\"Similarity calculation and results saved successfully.\")"
      ],
      "metadata": {
        "id": "Wr_JY4PPkHG_",
        "colab": {
          "base_uri": "https://localhost:8080/"
        },
        "outputId": "56163b82-582e-4a23-e504-e3f4218c7af2"
      },
      "execution_count": null,
      "outputs": [
        {
          "output_type": "stream",
          "name": "stdout",
          "text": [
            "Similarity calculation and results saved successfully.\n"
          ]
        }
      ]
    }
  ]
}